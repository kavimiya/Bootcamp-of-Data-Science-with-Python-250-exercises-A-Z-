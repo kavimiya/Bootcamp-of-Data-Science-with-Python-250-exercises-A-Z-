{
 "cells": [
  {
   "cell_type": "markdown",
   "id": "574c02e0",
   "metadata": {},
   "source": [
    "# Exercise 1"
   ]
  },
  {
   "cell_type": "markdown",
   "id": "f76d721a",
   "metadata": {},
   "source": [
    "\n",
    "Inspecting a Array NumPy\n",
    "\n",
    "A numpy object has attributes and methods inherited from the class (numpy.ndarray). Creat an array and inspect the following attributes:\n",
    "\n",
    "\n",
    "\n",
    "Shape: A tuple containing a number of elements (size) in each dimension of the array;\n",
    "\n",
    "Size: Total number of elements in the array;\n",
    "\n",
    "ndim: Number of dimensions (axes);\n",
    "\n",
    "nbytes: Number of bytes used to store the data;\n",
    "\n",
    "dtype: The data type of the elements in the array;\n",
    "\n",
    "\n",
    "\n",
    "Implementation example:\n",
    "\n",
    "import numpy as np\n",
    "array = np.array([1, 2, 3, 4])\n",
    "print('Shape: ', array.shape)"
   ]
  },
  {
   "cell_type": "code",
   "execution_count": 8,
   "id": "860f58d0",
   "metadata": {},
   "outputs": [
    {
     "name": "stdout",
     "output_type": "stream",
     "text": [
      "Shape:  (4,)\n",
      "Size: 4\n",
      "Ndim: 1\n",
      "Nbytes: 16\n",
      "DType: int32\n"
     ]
    }
   ],
   "source": [
    "import numpy as np\n",
    "array = np.array([1, 2, 3, 4])\n",
    "print('Shape: ', array.shape)\n",
    "print('Size:',array.size)\n",
    "print('Ndim:',array.ndim)\n",
    "print('Nbytes:',array.nbytes)\n",
    "print('DType:',array.dtype)"
   ]
  },
  {
   "cell_type": "markdown",
   "id": "564f5852",
   "metadata": {},
   "source": [
    "# Exercise 2"
   ]
  },
  {
   "cell_type": "markdown",
   "id": "a5ebd7cd",
   "metadata": {},
   "source": [
    "\n",
    "Based on the previous exercise, create a function that can receive an array and shows on the screen its attributes. Check if the insert argument is, indeed, a numpy object. You can also use a built-in type () function to verify the object' class.\n",
    "\n",
    "\n",
    "\n",
    "Expected return:\n",
    "\n",
    "inspect_array(np.array([1,2,3])) \n",
    " \n",
    "Shape : (3,)\n",
    "Size:  3\n",
    "Ndim:  1\n",
    "Nbytes:  24\n",
    "Dtype:  int64\n",
    "Type:  <class 'numpy.ndarray'>\n",
    "array([1, 2, 3])\n",
    "\n",
    "\n",
    "inspect_array([1,2,3]) \n",
    "'The inserted object is not a NumPy array.'\n"
   ]
  },
  {
   "cell_type": "code",
   "execution_count": 15,
   "id": "ddefdb27",
   "metadata": {},
   "outputs": [],
   "source": [
    "def inspect_array(arr):\n",
    "    if isinstance(arr,np.ndarray):\n",
    "        print('Shape:',arr.shape)\n",
    "        print('Size:',arr.size)\n",
    "        print('NDIM:',arr.ndim)\n",
    "        print('DTYPES:',arr.dtype)\n",
    "        print('TYPE:',type(arr))\n",
    "    else:\n",
    "        print('The inserted object is not a NumPy array.')\n",
    "              \n",
    "        "
   ]
  },
  {
   "cell_type": "code",
   "execution_count": 16,
   "id": "6708afa6",
   "metadata": {},
   "outputs": [
    {
     "name": "stdout",
     "output_type": "stream",
     "text": [
      "Shape: (4,)\n",
      "Size: 4\n",
      "NDIM: 1\n",
      "DTYPES: int32\n",
      "TYPE: <class 'numpy.ndarray'>\n"
     ]
    }
   ],
   "source": [
    "inspect_array(array)"
   ]
  },
  {
   "cell_type": "code",
   "execution_count": 17,
   "id": "221124df",
   "metadata": {},
   "outputs": [
    {
     "name": "stdout",
     "output_type": "stream",
     "text": [
      "The inserted object is not a NumPy array.\n"
     ]
    }
   ],
   "source": [
    "inspect_array([1,2,3])"
   ]
  },
  {
   "cell_type": "markdown",
   "id": "42ff1f26",
   "metadata": {},
   "source": [
    "# Exercise 3"
   ]
  },
  {
   "cell_type": "markdown",
   "id": "5eb9a42c",
   "metadata": {},
   "source": [
    "Use the np.array() function to creat the one-dimensioned arrays listed below:\n",
    "a) Use a list as an argument and obtain:\n",
    "array([-1,  4,  7,  9])\n",
    "b) Use the range() function and obtain:\n",
    "array([ 1,  2,  3,  4,  5,  6,  7,  8,  9, 10])\n",
    "Use a tuple as an argument and obtain:\n",
    "array([10, 11, 12, 13, 14])\n",
    "d) Use the range() function and obtain:\n",
    "array([1990, 1995, 2000, 2005, 2010, 2015, 2020])\n",
    "e) Use the range() function and obtain:\n",
    "array([2020, 2010, 2000, 1990, 1980, 1970, 1960, 1950, 1940, 1930, 1920, 1910, 1900])\n",
    "f) Obtain:\n",
    "array(100)"
   ]
  },
  {
   "cell_type": "code",
   "execution_count": 18,
   "id": "0f843fdc",
   "metadata": {},
   "outputs": [
    {
     "data": {
      "text/plain": [
       "array([-1,  4,  7,  9])"
      ]
     },
     "execution_count": 18,
     "metadata": {},
     "output_type": "execute_result"
    }
   ],
   "source": [
    "np.array([-1,4,7,9])"
   ]
  },
  {
   "cell_type": "code",
   "execution_count": 19,
   "id": "32c708ce",
   "metadata": {},
   "outputs": [
    {
     "data": {
      "text/plain": [
       "array([ 1,  2,  3,  4,  5,  6,  7,  8,  9, 10])"
      ]
     },
     "execution_count": 19,
     "metadata": {},
     "output_type": "execute_result"
    }
   ],
   "source": [
    "np.array(range(1,11))"
   ]
  },
  {
   "cell_type": "code",
   "execution_count": 20,
   "id": "198ec852",
   "metadata": {},
   "outputs": [
    {
     "data": {
      "text/plain": [
       "array([10, 11, 12, 13, 14])"
      ]
     },
     "execution_count": 20,
     "metadata": {},
     "output_type": "execute_result"
    }
   ],
   "source": [
    "np.array(range(10,15))"
   ]
  },
  {
   "cell_type": "code",
   "execution_count": 21,
   "id": "c7e1e0f9",
   "metadata": {},
   "outputs": [
    {
     "data": {
      "text/plain": [
       "array([1990, 1995, 2000, 2005, 2010, 2015, 2020])"
      ]
     },
     "execution_count": 21,
     "metadata": {},
     "output_type": "execute_result"
    }
   ],
   "source": [
    "np.array(range(1990,2021,5))"
   ]
  },
  {
   "cell_type": "code",
   "execution_count": 26,
   "id": "79ca28cf",
   "metadata": {},
   "outputs": [
    {
     "data": {
      "text/plain": [
       "array([2020, 2010, 2000, 1990, 1980, 1970, 1960, 1950, 1940, 1930, 1920,\n",
       "       1910, 1900])"
      ]
     },
     "execution_count": 26,
     "metadata": {},
     "output_type": "execute_result"
    }
   ],
   "source": [
    "np.array(range(1900,2021,10))[::-1]"
   ]
  },
  {
   "cell_type": "code",
   "execution_count": 27,
   "id": "38b93c38",
   "metadata": {},
   "outputs": [
    {
     "data": {
      "text/plain": [
       "array([100])"
      ]
     },
     "execution_count": 27,
     "metadata": {},
     "output_type": "execute_result"
    }
   ],
   "source": [
    "np.array([100])"
   ]
  },
  {
   "cell_type": "markdown",
   "id": "7cad2bcf",
   "metadata": {},
   "source": [
    "# Exercise 4"
   ]
  },
  {
   "cell_type": "markdown",
   "id": "af72fb49",
   "metadata": {},
   "source": [
    "\n",
    "The np.ones() function allows you to create an array filled with the number 1 in all your entries. We can specify as arguments the shape and the kind of dtype of the array. Use this function to create the following arrays:\n",
    "\n",
    "\n",
    "\n",
    "\n",
    "\n",
    "a) array([1., 1., 1., 1., 1., 1., 1., 1., 1., 1.])\n",
    "\n",
    "\n",
    "b)\n",
    "\n",
    "\n",
    "\n",
    "array([[1., 1., 1., 1.],\n",
    "       [1., 1., 1., 1.],\n",
    "       [1., 1., 1., 1.],\n",
    "       [1., 1., 1., 1.]])\n",
    "\n",
    "\n",
    "c)\n",
    "\n",
    "\n",
    "\n",
    "array([[1., 1.],\n",
    "       [1., 1.],\n",
    "       [1., 1.]])"
   ]
  },
  {
   "cell_type": "markdown",
   "id": "551fd33f",
   "metadata": {},
   "source": [
    "# A"
   ]
  },
  {
   "cell_type": "code",
   "execution_count": 33,
   "id": "03a3890f",
   "metadata": {},
   "outputs": [
    {
     "data": {
      "text/plain": [
       "array([1., 1., 1., 1., 1., 1., 1., 1., 1.])"
      ]
     },
     "execution_count": 33,
     "metadata": {},
     "output_type": "execute_result"
    }
   ],
   "source": [
    "np.ones((1,9)).ravel()"
   ]
  },
  {
   "cell_type": "markdown",
   "id": "013a2736",
   "metadata": {},
   "source": [
    "# B"
   ]
  },
  {
   "cell_type": "code",
   "execution_count": 35,
   "id": "b09128cc",
   "metadata": {},
   "outputs": [
    {
     "data": {
      "text/plain": [
       "array([[1., 1., 1., 1.],\n",
       "       [1., 1., 1., 1.],\n",
       "       [1., 1., 1., 1.],\n",
       "       [1., 1., 1., 1.]])"
      ]
     },
     "execution_count": 35,
     "metadata": {},
     "output_type": "execute_result"
    }
   ],
   "source": [
    "np.ones((4,4)).reshape(4,4)"
   ]
  },
  {
   "cell_type": "markdown",
   "id": "22dbc5e0",
   "metadata": {},
   "source": [
    "# C"
   ]
  },
  {
   "cell_type": "code",
   "execution_count": 36,
   "id": "55e5403c",
   "metadata": {},
   "outputs": [
    {
     "data": {
      "text/plain": [
       "array([[1., 1.],\n",
       "       [1., 1.],\n",
       "       [1., 1.]])"
      ]
     },
     "execution_count": 36,
     "metadata": {},
     "output_type": "execute_result"
    }
   ],
   "source": [
    "np.ones((3,2))"
   ]
  },
  {
   "cell_type": "markdown",
   "id": "2ae9f240",
   "metadata": {},
   "source": [
    "# Exercise 5"
   ]
  },
  {
   "cell_type": "markdown",
   "id": "e41403f7",
   "metadata": {},
   "source": [
    "\n",
    "The np.zeros() function allows you to create an array filled with the number 0 in all your entries. We can specify as arguments the shape and the kind of dtype of the array (default is the float). Use this function to create the following arrays:\n",
    "\n",
    "a)\n",
    "\n",
    "array([0., 0., 0., 0., 0., 0., 0., 0., 0., 0.])\n",
    "\n",
    "\n",
    "b)\n",
    "\n",
    "array([[0., 0.],       \n",
    "      [0., 0.]])  \n",
    "\n",
    "\n",
    "c)\n",
    "\n",
    "array([[0., 0., 0., 0., 0., 0.],\n",
    "       [0., 0., 0., 0., 0., 0.],\n",
    "       [0., 0., 0., 0., 0., 0.],\n",
    "       [0., 0., 0., 0., 0., 0.]])"
   ]
  },
  {
   "cell_type": "code",
   "execution_count": 38,
   "id": "30201ce7",
   "metadata": {},
   "outputs": [
    {
     "data": {
      "text/plain": [
       "array([0., 0., 0., 0., 0., 0., 0., 0., 0., 0.])"
      ]
     },
     "execution_count": 38,
     "metadata": {},
     "output_type": "execute_result"
    }
   ],
   "source": [
    "np.zeros(10)"
   ]
  },
  {
   "cell_type": "code",
   "execution_count": 39,
   "id": "ec85a71f",
   "metadata": {},
   "outputs": [
    {
     "data": {
      "text/plain": [
       "array([[0., 0.],\n",
       "       [0., 0.]])"
      ]
     },
     "execution_count": 39,
     "metadata": {},
     "output_type": "execute_result"
    }
   ],
   "source": [
    "np.zeros((2,2))"
   ]
  },
  {
   "cell_type": "code",
   "execution_count": 40,
   "id": "e2774db1",
   "metadata": {},
   "outputs": [
    {
     "data": {
      "text/plain": [
       "array([[0., 0., 0., 0., 0., 0.],\n",
       "       [0., 0., 0., 0., 0., 0.],\n",
       "       [0., 0., 0., 0., 0., 0.],\n",
       "       [0., 0., 0., 0., 0., 0.]])"
      ]
     },
     "execution_count": 40,
     "metadata": {},
     "output_type": "execute_result"
    }
   ],
   "source": [
    "np.zeros((4,6))"
   ]
  },
  {
   "cell_type": "markdown",
   "id": "c15f3b54",
   "metadata": {},
   "source": [
    "# Exercise 6"
   ]
  },
  {
   "cell_type": "markdown",
   "id": "2172feba",
   "metadata": {},
   "source": [
    "\n",
    "Create the following arrays:\n",
    "\n",
    "\n",
    "\n",
    "a)\n",
    "\n",
    "\n",
    "\n",
    "array([[10],\n",
    "       [15],\n",
    "       [20],\n",
    "       [25],\n",
    "       [30],\n",
    "       [35],\n",
    "       [40],\n",
    "       [45]])\n",
    "\n",
    "\n",
    "b)\n",
    "\n",
    "\n",
    "\n",
    "array([-50, -45, -40, -35, -30, -25, -20, -15, -10,  -5])\n",
    "\n",
    "\n",
    "c)\n",
    "\n",
    "\n",
    "\n",
    "array([[ 50,  52,  54,  56,  58,  60,  62,  64,  66,  68],\n",
    "       [ 70,  72,  74,  76,  78,  80,  82,  84,  86,  88],\n",
    "       [ 90,  92,  94,  96,  98, 100, 102, 104, 106, 108],\n",
    "       [110, 112, 114, 116, 118, 120, 122, 124, 126, 128],\n",
    "       [130, 132, 134, 136, 138, 140, 142, 144, 146, 148]])\n",
    "\n",
    "\n",
    "Tip: use np.arange() or np.array(range())."
   ]
  },
  {
   "cell_type": "code",
   "execution_count": 83,
   "id": "85187d93",
   "metadata": {
    "scrolled": true
   },
   "outputs": [
    {
     "data": {
      "text/plain": [
       "array([[10],\n",
       "       [15],\n",
       "       [20],\n",
       "       [25],\n",
       "       [30],\n",
       "       [35],\n",
       "       [40],\n",
       "       [45]])"
      ]
     },
     "execution_count": 83,
     "metadata": {},
     "output_type": "execute_result"
    }
   ],
   "source": [
    "np.array(range(10,50,5)).reshape(8,-1)"
   ]
  },
  {
   "cell_type": "code",
   "execution_count": 93,
   "id": "d6f054e8",
   "metadata": {},
   "outputs": [
    {
     "data": {
      "text/plain": [
       "array([-50, -45, -40, -35, -30, -25, -20, -15, -10,  -5])"
      ]
     },
     "execution_count": 93,
     "metadata": {},
     "output_type": "execute_result"
    }
   ],
   "source": [
    "arr=np.array(range(50,4,-5))\n",
    "np.negative(arr)"
   ]
  },
  {
   "cell_type": "code",
   "execution_count": 95,
   "id": "a98ac0fa",
   "metadata": {},
   "outputs": [
    {
     "data": {
      "text/plain": [
       "array([[ 50,  52,  54,  56,  58,  60,  62,  64,  66,  68],\n",
       "       [ 70,  72,  74,  76,  78,  80,  82,  84,  86,  88],\n",
       "       [ 90,  92,  94,  96,  98, 100, 102, 104, 106, 108],\n",
       "       [110, 112, 114, 116, 118, 120, 122, 124, 126, 128],\n",
       "       [130, 132, 134, 136, 138, 140, 142, 144, 146, 148]])"
      ]
     },
     "execution_count": 95,
     "metadata": {},
     "output_type": "execute_result"
    }
   ],
   "source": [
    "np.array(range(50,150,2)).reshape(5,-1)"
   ]
  },
  {
   "cell_type": "markdown",
   "id": "5c5af511",
   "metadata": {},
   "source": [
    "# Exercise 7"
   ]
  },
  {
   "cell_type": "markdown",
   "id": "acd2852a",
   "metadata": {},
   "source": [
    "\n",
    "Use the np.full(shape, fill_value, dtype) function to create the following arrays. This function allows you to create an array with a user-defined shape and dtype, filled with a certain value.\n",
    "\n",
    "a)\n",
    "\n",
    "\n",
    "\n",
    "array([5., 5., 5., 5., 5., 5., 5., 5., 5., 5.])\n",
    "\n",
    "\n",
    "b)\n",
    "\n",
    "\n",
    "\n",
    "array([[-5., -5., -5., -5.],\n",
    "       [-5., -5., -5., -5.],\n",
    "       [-5., -5., -5., -5.],\n",
    "       [-5., -5., -5., -5.]])\n",
    "\n",
    "\n",
    "c)\n",
    "\n",
    "\n",
    "\n",
    "array([[3, 3, 3],\n",
    "       [3, 3, 3],\n",
    "       [3, 3, 3]])\n",
    "\n",
    "\n",
    "d)\n",
    "\n",
    "\n",
    "\n",
    "array([[50, 50, 50, 50, 50, 50, 50, 50, 50, 50],\n",
    "       [50, 50, 50, 50, 50, 50, 50, 50, 50, 50],\n",
    "       [50, 50, 50, 50, 50, 50, 50, 50, 50, 50],\n",
    "       [50, 50, 50, 50, 50, 50, 50, 50, 50, 50],\n",
    "       [50, 50, 50, 50, 50, 50, 50, 50, 50, 50],\n",
    "       [50, 50, 50, 50, 50, 50, 50, 50, 50, 50],\n",
    "       [50, 50, 50, 50, 50, 50, 50, 50, 50, 50],\n",
    "       [50, 50, 50, 50, 50, 50, 50, 50, 50, 50],\n",
    "       [50, 50, 50, 50, 50, 50, 50, 50, 50, 50],\n",
    "       [50, 50, 50, 50, 50, 50, 50, 50, 50, 50]])\n",
    "\n",
    "\n",
    "Tip: Another possibility would be to obtain the arrays with a different operation, by mutiplying a matrix filled with the number 1 by a certain value."
   ]
  },
  {
   "cell_type": "code",
   "execution_count": 99,
   "id": "e578b311",
   "metadata": {},
   "outputs": [
    {
     "data": {
      "text/plain": [
       "array([5., 5., 5., 5., 5., 5., 5., 5., 5., 5.])"
      ]
     },
     "execution_count": 99,
     "metadata": {},
     "output_type": "execute_result"
    }
   ],
   "source": [
    "np.full((10),5,dtype='float')"
   ]
  },
  {
   "cell_type": "code",
   "execution_count": 103,
   "id": "d58a8eeb",
   "metadata": {},
   "outputs": [
    {
     "data": {
      "text/plain": [
       "array([[-5, -5, -5, -5],\n",
       "       [-5, -5, -5, -5],\n",
       "       [-5, -5, -5, -5],\n",
       "       [-5, -5, -5, -5]])"
      ]
     },
     "execution_count": 103,
     "metadata": {},
     "output_type": "execute_result"
    }
   ],
   "source": [
    "np.full((4,4),-5)"
   ]
  },
  {
   "cell_type": "code",
   "execution_count": 104,
   "id": "21655dab",
   "metadata": {},
   "outputs": [
    {
     "data": {
      "text/plain": [
       "array([[3, 3, 3],\n",
       "       [3, 3, 3],\n",
       "       [3, 3, 3]])"
      ]
     },
     "execution_count": 104,
     "metadata": {},
     "output_type": "execute_result"
    }
   ],
   "source": [
    "np.full((3,3),3)"
   ]
  },
  {
   "cell_type": "code",
   "execution_count": 105,
   "id": "8655972d",
   "metadata": {},
   "outputs": [
    {
     "data": {
      "text/plain": [
       "array([[50, 50, 50, 50, 50, 50, 50, 50, 50, 50],\n",
       "       [50, 50, 50, 50, 50, 50, 50, 50, 50, 50],\n",
       "       [50, 50, 50, 50, 50, 50, 50, 50, 50, 50],\n",
       "       [50, 50, 50, 50, 50, 50, 50, 50, 50, 50],\n",
       "       [50, 50, 50, 50, 50, 50, 50, 50, 50, 50],\n",
       "       [50, 50, 50, 50, 50, 50, 50, 50, 50, 50],\n",
       "       [50, 50, 50, 50, 50, 50, 50, 50, 50, 50],\n",
       "       [50, 50, 50, 50, 50, 50, 50, 50, 50, 50],\n",
       "       [50, 50, 50, 50, 50, 50, 50, 50, 50, 50],\n",
       "       [50, 50, 50, 50, 50, 50, 50, 50, 50, 50]])"
      ]
     },
     "execution_count": 105,
     "metadata": {},
     "output_type": "execute_result"
    }
   ],
   "source": [
    "np.full((10,10),50)"
   ]
  },
  {
   "cell_type": "markdown",
   "id": "11123c10",
   "metadata": {},
   "source": [
    "# Exercise 8"
   ]
  },
  {
   "cell_type": "markdown",
   "id": "6a1e58bb",
   "metadata": {},
   "source": [
    "\n",
    "Define the K array and check for missing data. Use the np.isnan() function.\n",
    "\n",
    "\n",
    "\n",
    "array([[ nan,   1.,  10.,   0.],\n",
    "       [ nan,  nan,  nan,  nan],\n",
    "       [100.,  50.,  nan, -25.],\n",
    "       [ 30.,  nan,  nan, 130.]])"
   ]
  },
  {
   "cell_type": "code",
   "execution_count": null,
   "id": "50bb3cbc",
   "metadata": {},
   "outputs": [],
   "source": []
  },
  {
   "cell_type": "code",
   "execution_count": 111,
   "id": "b9a15677",
   "metadata": {},
   "outputs": [
    {
     "data": {
      "text/plain": [
       "array([[ nan,   1.,  10.,   0.],\n",
       "       [ nan,  nan,  nan,  nan],\n",
       "       [100.,  50.,  nan, -25.],\n",
       "       [ 30.,  nan,  nan, 130.]])"
      ]
     },
     "execution_count": 111,
     "metadata": {},
     "output_type": "execute_result"
    }
   ],
   "source": [
    "arr=np.array([[ np.nan,   1.,  10.,   0.],\n",
    "       [ np.nan,  np.nan,  np.nan,  np.nan],\n",
    "       [100.,  50.,  np.nan, -25.],\n",
    "       [ 30.,  np.nan,  np.nan, 130.]],order='K')\n",
    "arr"
   ]
  },
  {
   "cell_type": "code",
   "execution_count": 113,
   "id": "6d16820f",
   "metadata": {},
   "outputs": [
    {
     "data": {
      "text/plain": [
       "8"
      ]
     },
     "execution_count": 113,
     "metadata": {},
     "output_type": "execute_result"
    }
   ],
   "source": [
    "np.isnan(arr).sum()"
   ]
  },
  {
   "cell_type": "markdown",
   "id": "c395b84e",
   "metadata": {},
   "source": [
    "# Exercise 9"
   ]
  },
  {
   "cell_type": "markdown",
   "id": "2d1ccffc",
   "metadata": {},
   "source": [
    "\n",
    "The np.linspace () function returns an array of evenly spaced numbers within a defined range. Create an array with numbers within the range [1,21] in 5 parts.\n",
    "\n",
    "\n",
    "\n",
    "Expected return:\n",
    "\n",
    "array([ 1.,  6., 11., 16., 21.])"
   ]
  },
  {
   "cell_type": "code",
   "execution_count": 115,
   "id": "ed1c8f03",
   "metadata": {},
   "outputs": [
    {
     "data": {
      "text/plain": [
       "array([ 1.,  6., 11., 16., 21.])"
      ]
     },
     "execution_count": 115,
     "metadata": {},
     "output_type": "execute_result"
    }
   ],
   "source": [
    "np.linspace(1,21,5)"
   ]
  },
  {
   "cell_type": "markdown",
   "id": "bc95380c",
   "metadata": {},
   "source": [
    "# Exercise 10"
   ]
  },
  {
   "cell_type": "markdown",
   "id": "cacaf8f0",
   "metadata": {},
   "source": [
    "\n",
    "The np.logspace () function returns evenly spaced numbers on a logarithmic scale. Create an array with numbers within the range [1,51] in 10 parts with the np.logspace() function.\n",
    "\n",
    "\n",
    "\n",
    "Expected return:\n",
    "\n",
    "array([[1.00000000e+01],\n",
    "       [3.59381366e+06],\n",
    "       [1.29154967e+12],\n",
    "       [4.64158883e+17],\n",
    "       [1.66810054e+23],\n",
    "       [5.99484250e+28],\n",
    "       [2.15443469e+34],\n",
    "       [7.74263683e+39],\n",
    "       [2.78255940e+45],\n",
    "       [1.00000000e+51]])"
   ]
  },
  {
   "cell_type": "code",
   "execution_count": 117,
   "id": "3980732f",
   "metadata": {},
   "outputs": [
    {
     "data": {
      "text/plain": [
       "array([[1.00000000e+01],\n",
       "       [3.59381366e+06],\n",
       "       [1.29154967e+12],\n",
       "       [4.64158883e+17],\n",
       "       [1.66810054e+23],\n",
       "       [5.99484250e+28],\n",
       "       [2.15443469e+34],\n",
       "       [7.74263683e+39],\n",
       "       [2.78255940e+45],\n",
       "       [1.00000000e+51]])"
      ]
     },
     "execution_count": 117,
     "metadata": {},
     "output_type": "execute_result"
    }
   ],
   "source": [
    "np.logspace(1,51,10).reshape(-1,1)"
   ]
  },
  {
   "cell_type": "code",
   "execution_count": null,
   "id": "46c5d99d",
   "metadata": {},
   "outputs": [],
   "source": []
  },
  {
   "cell_type": "code",
   "execution_count": null,
   "id": "9ae2afd7",
   "metadata": {},
   "outputs": [],
   "source": []
  },
  {
   "cell_type": "code",
   "execution_count": null,
   "id": "2a133024",
   "metadata": {},
   "outputs": [],
   "source": []
  },
  {
   "cell_type": "code",
   "execution_count": null,
   "id": "839c948d",
   "metadata": {},
   "outputs": [],
   "source": []
  },
  {
   "cell_type": "code",
   "execution_count": null,
   "id": "e7920565",
   "metadata": {},
   "outputs": [],
   "source": []
  },
  {
   "cell_type": "code",
   "execution_count": null,
   "id": "01b98f2e",
   "metadata": {},
   "outputs": [],
   "source": []
  },
  {
   "cell_type": "code",
   "execution_count": null,
   "id": "522c6959",
   "metadata": {},
   "outputs": [],
   "source": []
  },
  {
   "cell_type": "code",
   "execution_count": null,
   "id": "40301835",
   "metadata": {},
   "outputs": [],
   "source": []
  },
  {
   "cell_type": "code",
   "execution_count": null,
   "id": "b8dc77f7",
   "metadata": {},
   "outputs": [],
   "source": []
  },
  {
   "cell_type": "code",
   "execution_count": null,
   "id": "c0008e8b",
   "metadata": {},
   "outputs": [],
   "source": []
  },
  {
   "cell_type": "code",
   "execution_count": null,
   "id": "77df7e1c",
   "metadata": {},
   "outputs": [],
   "source": []
  },
  {
   "cell_type": "code",
   "execution_count": null,
   "id": "9ca877e4",
   "metadata": {},
   "outputs": [],
   "source": []
  },
  {
   "cell_type": "code",
   "execution_count": null,
   "id": "b508e32e",
   "metadata": {},
   "outputs": [],
   "source": []
  },
  {
   "cell_type": "code",
   "execution_count": null,
   "id": "eb64b189",
   "metadata": {},
   "outputs": [],
   "source": []
  },
  {
   "cell_type": "code",
   "execution_count": null,
   "id": "1d5bed17",
   "metadata": {},
   "outputs": [],
   "source": []
  },
  {
   "cell_type": "code",
   "execution_count": null,
   "id": "94e4b71e",
   "metadata": {},
   "outputs": [],
   "source": []
  },
  {
   "cell_type": "code",
   "execution_count": null,
   "id": "270c0af7",
   "metadata": {},
   "outputs": [],
   "source": []
  }
 ],
 "metadata": {
  "kernelspec": {
   "display_name": "Python 3 (ipykernel)",
   "language": "python",
   "name": "python3"
  },
  "language_info": {
   "codemirror_mode": {
    "name": "ipython",
    "version": 3
   },
   "file_extension": ".py",
   "mimetype": "text/x-python",
   "name": "python",
   "nbconvert_exporter": "python",
   "pygments_lexer": "ipython3",
   "version": "3.9.7"
  }
 },
 "nbformat": 4,
 "nbformat_minor": 5
}
